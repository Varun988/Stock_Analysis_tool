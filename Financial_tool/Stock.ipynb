{
  "nbformat": 4,
  "nbformat_minor": 0,
  "metadata": {
    "colab": {
      "provenance": []
    },
    "kernelspec": {
      "name": "python3",
      "display_name": "Python 3"
    },
    "language_info": {
      "name": "python"
    }
  },
  "cells": [
    {
      "cell_type": "code",
      "execution_count": 1,
      "metadata": {
        "colab": {
          "base_uri": "https://localhost:8080/"
        },
        "id": "k85IboXyRJKD",
        "outputId": "b47076c4-e2f9-4f7b-f676-1be658d6c400"
      },
      "outputs": [
        {
          "output_type": "stream",
          "name": "stdout",
          "text": [
            "Drive not mounted, so nothing to flush and unmount.\n"
          ]
        }
      ],
      "source": [
        "from google.colab import drive\n",
        "drive.flush_and_unmount()"
      ]
    },
    {
      "cell_type": "code",
      "source": [
        "\n",
        "from google.colab import drive\n",
        "drive.mount(\"/content/drive\")"
      ],
      "metadata": {
        "colab": {
          "base_uri": "https://localhost:8080/"
        },
        "id": "HfyyoX1jamHp",
        "outputId": "c5b4a791-91f9-4f8f-d63c-fcc8b8abc1f7"
      },
      "execution_count": 2,
      "outputs": [
        {
          "output_type": "stream",
          "name": "stdout",
          "text": [
            "Drive already mounted at /content/drive; to attempt to forcibly remount, call drive.mount(\"/content/drive\", force_remount=True).\n"
          ]
        }
      ]
    },
    {
      "cell_type": "code",
      "source": [
        "#!virtualenv /content/drive/MyDrive/colab_env_2"
      ],
      "metadata": {
        "colab": {
          "base_uri": "https://localhost:8080/"
        },
        "id": "rtjAWJAcapzR",
        "outputId": "db739c09-005e-464a-86a7-ef4965250ae8"
      },
      "execution_count": null,
      "outputs": [
        {
          "output_type": "stream",
          "name": "stdout",
          "text": [
            "created virtual environment CPython3.11.13.final.0-64 in 16687ms\n",
            "  creator CPython3Posix(dest=/content/drive/MyDrive/colab_env_2, clear=False, no_vcs_ignore=False, global=False)\n",
            "  seeder FromAppData(download=False, pip=bundle, setuptools=bundle, via=copy, app_data_dir=/root/.local/share/virtualenv)\n",
            "    added seed packages: pip==25.1.1, setuptools==80.9.0\n",
            "  activators BashActivator,CShellActivator,FishActivator,NushellActivator,PowerShellActivator,PythonActivator\n"
          ]
        }
      ]
    },
    {
      "cell_type": "code",
      "source": [
        "pip install virtualenv\n"
      ],
      "metadata": {
        "colab": {
          "base_uri": "https://localhost:8080/"
        },
        "id": "I5TzcHeKa2_u",
        "outputId": "2077d0e4-0758-477a-dffc-9b0a26a4d6d5"
      },
      "execution_count": 3,
      "outputs": [
        {
          "output_type": "stream",
          "name": "stdout",
          "text": [
            "Collecting virtualenv\n",
            "  Downloading virtualenv-20.34.0-py3-none-any.whl.metadata (4.6 kB)\n",
            "Collecting distlib<1,>=0.3.7 (from virtualenv)\n",
            "  Downloading distlib-0.4.0-py2.py3-none-any.whl.metadata (5.2 kB)\n",
            "Requirement already satisfied: filelock<4,>=3.12.2 in /usr/local/lib/python3.12/dist-packages (from virtualenv) (3.19.1)\n",
            "Requirement already satisfied: platformdirs<5,>=3.9.1 in /usr/local/lib/python3.12/dist-packages (from virtualenv) (4.4.0)\n",
            "Downloading virtualenv-20.34.0-py3-none-any.whl (6.0 MB)\n",
            "\u001b[2K   \u001b[90m━━━━━━━━━━━━━━━━━━━━━━━━━━━━━━━━━━━━━━━━\u001b[0m \u001b[32m6.0/6.0 MB\u001b[0m \u001b[31m27.6 MB/s\u001b[0m eta \u001b[36m0:00:00\u001b[0m\n",
            "\u001b[?25hDownloading distlib-0.4.0-py2.py3-none-any.whl (469 kB)\n",
            "\u001b[2K   \u001b[90m━━━━━━━━━━━━━━━━━━━━━━━━━━━━━━━━━━━━━━━━\u001b[0m \u001b[32m469.0/469.0 kB\u001b[0m \u001b[31m26.8 MB/s\u001b[0m eta \u001b[36m0:00:00\u001b[0m\n",
            "\u001b[?25hInstalling collected packages: distlib, virtualenv\n",
            "Successfully installed distlib-0.4.0 virtualenv-20.34.0\n"
          ]
        }
      ]
    },
    {
      "cell_type": "code",
      "source": [
        "!source /content/drive/MyDrive/colab_env_2/bin/activate"
      ],
      "metadata": {
        "id": "doWUzI_Va76V"
      },
      "execution_count": 4,
      "outputs": []
    },
    {
      "cell_type": "code",
      "source": [
        "import sys\n",
        "sys.path.append(\"/content/drive/MyDrive/colab_env_2/lib/python3.10/site-packages\")"
      ],
      "metadata": {
        "id": "Sd0KcmQ-bIK3"
      },
      "execution_count": 5,
      "outputs": []
    },
    {
      "cell_type": "code",
      "source": [
        "!pip install yfinance pandas google-generativeai\n"
      ],
      "metadata": {
        "colab": {
          "base_uri": "https://localhost:8080/"
        },
        "id": "-IsxhtekbP0x",
        "outputId": "621fe1ac-95c5-4347-a4d9-358c625d4127"
      },
      "execution_count": null,
      "outputs": [
        {
          "output_type": "stream",
          "name": "stdout",
          "text": [
            "Requirement already satisfied: yfinance in /usr/local/lib/python3.11/dist-packages (0.2.65)\n",
            "Requirement already satisfied: pandas in /usr/local/lib/python3.11/dist-packages (2.2.2)\n",
            "Requirement already satisfied: google-generativeai in /usr/local/lib/python3.11/dist-packages (0.8.5)\n",
            "Requirement already satisfied: numpy>=1.16.5 in /usr/local/lib/python3.11/dist-packages (from yfinance) (2.0.2)\n",
            "Requirement already satisfied: requests>=2.31 in /usr/local/lib/python3.11/dist-packages (from yfinance) (2.32.3)\n",
            "Requirement already satisfied: multitasking>=0.0.7 in /usr/local/lib/python3.11/dist-packages (from yfinance) (0.0.12)\n",
            "Requirement already satisfied: platformdirs>=2.0.0 in /usr/local/lib/python3.11/dist-packages (from yfinance) (4.3.8)\n",
            "Requirement already satisfied: pytz>=2022.5 in /usr/local/lib/python3.11/dist-packages (from yfinance) (2025.2)\n",
            "Requirement already satisfied: frozendict>=2.3.4 in /usr/local/lib/python3.11/dist-packages (from yfinance) (2.4.6)\n",
            "Requirement already satisfied: peewee>=3.16.2 in /usr/local/lib/python3.11/dist-packages (from yfinance) (3.18.2)\n",
            "Requirement already satisfied: beautifulsoup4>=4.11.1 in /usr/local/lib/python3.11/dist-packages (from yfinance) (4.13.4)\n",
            "Requirement already satisfied: curl_cffi>=0.7 in /usr/local/lib/python3.11/dist-packages (from yfinance) (0.13.0)\n",
            "Requirement already satisfied: protobuf>=3.19.0 in /usr/local/lib/python3.11/dist-packages (from yfinance) (5.29.5)\n",
            "Requirement already satisfied: websockets>=13.0 in /usr/local/lib/python3.11/dist-packages (from yfinance) (15.0.1)\n",
            "Requirement already satisfied: python-dateutil>=2.8.2 in /usr/local/lib/python3.11/dist-packages (from pandas) (2.9.0.post0)\n",
            "Requirement already satisfied: tzdata>=2022.7 in /usr/local/lib/python3.11/dist-packages (from pandas) (2025.2)\n",
            "Requirement already satisfied: google-ai-generativelanguage==0.6.15 in /usr/local/lib/python3.11/dist-packages (from google-generativeai) (0.6.15)\n",
            "Requirement already satisfied: google-api-core in /usr/local/lib/python3.11/dist-packages (from google-generativeai) (2.25.1)\n",
            "Requirement already satisfied: google-api-python-client in /usr/local/lib/python3.11/dist-packages (from google-generativeai) (2.177.0)\n",
            "Requirement already satisfied: google-auth>=2.15.0 in /usr/local/lib/python3.11/dist-packages (from google-generativeai) (2.38.0)\n",
            "Requirement already satisfied: pydantic in /usr/local/lib/python3.11/dist-packages (from google-generativeai) (2.11.7)\n",
            "Requirement already satisfied: tqdm in /usr/local/lib/python3.11/dist-packages (from google-generativeai) (4.67.1)\n",
            "Requirement already satisfied: typing-extensions in /usr/local/lib/python3.11/dist-packages (from google-generativeai) (4.14.1)\n",
            "Requirement already satisfied: proto-plus<2.0.0dev,>=1.22.3 in /usr/local/lib/python3.11/dist-packages (from google-ai-generativelanguage==0.6.15->google-generativeai) (1.26.1)\n",
            "Requirement already satisfied: soupsieve>1.2 in /usr/local/lib/python3.11/dist-packages (from beautifulsoup4>=4.11.1->yfinance) (2.7)\n",
            "Requirement already satisfied: cffi>=1.12.0 in /usr/local/lib/python3.11/dist-packages (from curl_cffi>=0.7->yfinance) (1.17.1)\n",
            "Requirement already satisfied: certifi>=2024.2.2 in /usr/local/lib/python3.11/dist-packages (from curl_cffi>=0.7->yfinance) (2025.8.3)\n",
            "Requirement already satisfied: googleapis-common-protos<2.0.0,>=1.56.2 in /usr/local/lib/python3.11/dist-packages (from google-api-core->google-generativeai) (1.70.0)\n",
            "Requirement already satisfied: cachetools<6.0,>=2.0.0 in /usr/local/lib/python3.11/dist-packages (from google-auth>=2.15.0->google-generativeai) (5.5.2)\n",
            "Requirement already satisfied: pyasn1-modules>=0.2.1 in /usr/local/lib/python3.11/dist-packages (from google-auth>=2.15.0->google-generativeai) (0.4.2)\n",
            "Requirement already satisfied: rsa<5,>=3.1.4 in /usr/local/lib/python3.11/dist-packages (from google-auth>=2.15.0->google-generativeai) (4.9.1)\n",
            "Requirement already satisfied: six>=1.5 in /usr/local/lib/python3.11/dist-packages (from python-dateutil>=2.8.2->pandas) (1.17.0)\n",
            "Requirement already satisfied: charset-normalizer<4,>=2 in /usr/local/lib/python3.11/dist-packages (from requests>=2.31->yfinance) (3.4.2)\n",
            "Requirement already satisfied: idna<4,>=2.5 in /usr/local/lib/python3.11/dist-packages (from requests>=2.31->yfinance) (3.10)\n",
            "Requirement already satisfied: urllib3<3,>=1.21.1 in /usr/local/lib/python3.11/dist-packages (from requests>=2.31->yfinance) (2.5.0)\n",
            "Requirement already satisfied: httplib2<1.0.0,>=0.19.0 in /usr/local/lib/python3.11/dist-packages (from google-api-python-client->google-generativeai) (0.22.0)\n",
            "Requirement already satisfied: google-auth-httplib2<1.0.0,>=0.2.0 in /usr/local/lib/python3.11/dist-packages (from google-api-python-client->google-generativeai) (0.2.0)\n",
            "Requirement already satisfied: uritemplate<5,>=3.0.1 in /usr/local/lib/python3.11/dist-packages (from google-api-python-client->google-generativeai) (4.2.0)\n",
            "Requirement already satisfied: annotated-types>=0.6.0 in /usr/local/lib/python3.11/dist-packages (from pydantic->google-generativeai) (0.7.0)\n",
            "Requirement already satisfied: pydantic-core==2.33.2 in /usr/local/lib/python3.11/dist-packages (from pydantic->google-generativeai) (2.33.2)\n",
            "Requirement already satisfied: typing-inspection>=0.4.0 in /usr/local/lib/python3.11/dist-packages (from pydantic->google-generativeai) (0.4.1)\n",
            "Requirement already satisfied: pycparser in /usr/local/lib/python3.11/dist-packages (from cffi>=1.12.0->curl_cffi>=0.7->yfinance) (2.22)\n",
            "Requirement already satisfied: grpcio<2.0.0,>=1.33.2 in /usr/local/lib/python3.11/dist-packages (from google-api-core[grpc]!=2.0.*,!=2.1.*,!=2.10.*,!=2.2.*,!=2.3.*,!=2.4.*,!=2.5.*,!=2.6.*,!=2.7.*,!=2.8.*,!=2.9.*,<3.0.0dev,>=1.34.1->google-ai-generativelanguage==0.6.15->google-generativeai) (1.74.0)\n",
            "Requirement already satisfied: grpcio-status<2.0.0,>=1.33.2 in /usr/local/lib/python3.11/dist-packages (from google-api-core[grpc]!=2.0.*,!=2.1.*,!=2.10.*,!=2.2.*,!=2.3.*,!=2.4.*,!=2.5.*,!=2.6.*,!=2.7.*,!=2.8.*,!=2.9.*,<3.0.0dev,>=1.34.1->google-ai-generativelanguage==0.6.15->google-generativeai) (1.71.2)\n",
            "Requirement already satisfied: pyparsing!=3.0.0,!=3.0.1,!=3.0.2,!=3.0.3,<4,>=2.4.2 in /usr/local/lib/python3.11/dist-packages (from httplib2<1.0.0,>=0.19.0->google-api-python-client->google-generativeai) (3.2.3)\n",
            "Requirement already satisfied: pyasn1<0.7.0,>=0.6.1 in /usr/local/lib/python3.11/dist-packages (from pyasn1-modules>=0.2.1->google-auth>=2.15.0->google-generativeai) (0.6.1)\n"
          ]
        }
      ]
    },
    {
      "cell_type": "code",
      "source": [
        "from dotenv import load_dotenv\n"
      ],
      "metadata": {
        "id": "j7SsE7kwcT_K"
      },
      "execution_count": 6,
      "outputs": []
    },
    {
      "cell_type": "code",
      "source": [
        "load_dotenv('/content/drive/MyDrive/Env/.env')"
      ],
      "metadata": {
        "colab": {
          "base_uri": "https://localhost:8080/"
        },
        "id": "2MCRuCg5EUNE",
        "outputId": "62f0b9ba-bcba-41dd-cbca-7b8a85680cf7"
      },
      "execution_count": 7,
      "outputs": [
        {
          "output_type": "execute_result",
          "data": {
            "text/plain": [
              "True"
            ]
          },
          "metadata": {},
          "execution_count": 7
        }
      ]
    },
    {
      "cell_type": "code",
      "source": [
        "\n",
        "import os\n",
        "os.environ['GROQ_API_KEY'] = os.getenv(\"GROQ_API_KEY\")\n"
      ],
      "metadata": {
        "id": "O0NP3DPLEVA3"
      },
      "execution_count": 8,
      "outputs": []
    },
    {
      "cell_type": "code",
      "source": [
        "!pip install langchain langchain_groq yfinance pandas pandas-ta\n"
      ],
      "metadata": {
        "colab": {
          "base_uri": "https://localhost:8080/",
          "height": 1000
        },
        "id": "9OZ6Ig38EYzO",
        "outputId": "2fbc93d5-ca7c-489a-c1ce-436267066efc"
      },
      "execution_count": 10,
      "outputs": [
        {
          "output_type": "stream",
          "name": "stdout",
          "text": [
            "Requirement already satisfied: langchain in /usr/local/lib/python3.12/dist-packages (0.3.27)\n",
            "Collecting langchain_groq\n",
            "  Downloading langchain_groq-0.3.8-py3-none-any.whl.metadata (2.6 kB)\n",
            "Requirement already satisfied: yfinance in /usr/local/lib/python3.12/dist-packages (0.2.65)\n",
            "Requirement already satisfied: pandas in /usr/local/lib/python3.12/dist-packages (2.2.2)\n",
            "Collecting pandas-ta\n",
            "  Downloading pandas_ta-0.4.67b0-py3-none-any.whl.metadata (2.2 kB)\n",
            "Requirement already satisfied: langchain-core<1.0.0,>=0.3.72 in /usr/local/lib/python3.12/dist-packages (from langchain) (0.3.75)\n",
            "Requirement already satisfied: langchain-text-splitters<1.0.0,>=0.3.9 in /usr/local/lib/python3.12/dist-packages (from langchain) (0.3.11)\n",
            "Requirement already satisfied: langsmith>=0.1.17 in /usr/local/lib/python3.12/dist-packages (from langchain) (0.4.24)\n",
            "Requirement already satisfied: pydantic<3.0.0,>=2.7.4 in /usr/local/lib/python3.12/dist-packages (from langchain) (2.11.7)\n",
            "Requirement already satisfied: SQLAlchemy<3,>=1.4 in /usr/local/lib/python3.12/dist-packages (from langchain) (2.0.43)\n",
            "Requirement already satisfied: requests<3,>=2 in /usr/local/lib/python3.12/dist-packages (from langchain) (2.32.4)\n",
            "Requirement already satisfied: PyYAML>=5.3 in /usr/local/lib/python3.12/dist-packages (from langchain) (6.0.2)\n",
            "Collecting groq<1,>=0.30.0 (from langchain_groq)\n",
            "  Downloading groq-0.31.1-py3-none-any.whl.metadata (16 kB)\n",
            "Requirement already satisfied: numpy>=1.16.5 in /usr/local/lib/python3.12/dist-packages (from yfinance) (2.0.2)\n",
            "Requirement already satisfied: multitasking>=0.0.7 in /usr/local/lib/python3.12/dist-packages (from yfinance) (0.0.12)\n",
            "Requirement already satisfied: platformdirs>=2.0.0 in /usr/local/lib/python3.12/dist-packages (from yfinance) (4.4.0)\n",
            "Requirement already satisfied: pytz>=2022.5 in /usr/local/lib/python3.12/dist-packages (from yfinance) (2025.2)\n",
            "Requirement already satisfied: frozendict>=2.3.4 in /usr/local/lib/python3.12/dist-packages (from yfinance) (2.4.6)\n",
            "Requirement already satisfied: peewee>=3.16.2 in /usr/local/lib/python3.12/dist-packages (from yfinance) (3.18.2)\n",
            "Requirement already satisfied: beautifulsoup4>=4.11.1 in /usr/local/lib/python3.12/dist-packages (from yfinance) (4.13.5)\n",
            "Requirement already satisfied: curl_cffi>=0.7 in /usr/local/lib/python3.12/dist-packages (from yfinance) (0.13.0)\n",
            "Requirement already satisfied: protobuf>=3.19.0 in /usr/local/lib/python3.12/dist-packages (from yfinance) (5.29.5)\n",
            "Requirement already satisfied: websockets>=13.0 in /usr/local/lib/python3.12/dist-packages (from yfinance) (15.0.1)\n",
            "Requirement already satisfied: python-dateutil>=2.8.2 in /usr/local/lib/python3.12/dist-packages (from pandas) (2.9.0.post0)\n",
            "Requirement already satisfied: tzdata>=2022.7 in /usr/local/lib/python3.12/dist-packages (from pandas) (2025.2)\n",
            "Collecting numba==0.61.2 (from pandas-ta)\n",
            "  Downloading numba-0.61.2-cp312-cp312-manylinux2014_x86_64.manylinux_2_17_x86_64.whl.metadata (2.8 kB)\n",
            "Collecting numpy>=1.16.5 (from yfinance)\n",
            "  Downloading numpy-2.3.3-cp312-cp312-manylinux_2_27_x86_64.manylinux_2_28_x86_64.whl.metadata (62 kB)\n",
            "\u001b[2K     \u001b[90m━━━━━━━━━━━━━━━━━━━━━━━━━━━━━━━━━━━━━━━━\u001b[0m \u001b[32m62.1/62.1 kB\u001b[0m \u001b[31m2.8 MB/s\u001b[0m eta \u001b[36m0:00:00\u001b[0m\n",
            "\u001b[?25hCollecting pandas\n",
            "  Downloading pandas-2.3.2-cp312-cp312-manylinux_2_17_x86_64.manylinux2014_x86_64.whl.metadata (91 kB)\n",
            "\u001b[2K     \u001b[90m━━━━━━━━━━━━━━━━━━━━━━━━━━━━━━━━━━━━━━━━\u001b[0m \u001b[32m91.2/91.2 kB\u001b[0m \u001b[31m6.7 MB/s\u001b[0m eta \u001b[36m0:00:00\u001b[0m\n",
            "\u001b[?25hRequirement already satisfied: tqdm>=4.67.1 in /usr/local/lib/python3.12/dist-packages (from pandas-ta) (4.67.1)\n",
            "Collecting llvmlite<0.45,>=0.44.0dev0 (from numba==0.61.2->pandas-ta)\n",
            "  Downloading llvmlite-0.44.0-cp312-cp312-manylinux_2_17_x86_64.manylinux2014_x86_64.whl.metadata (5.0 kB)\n",
            "Collecting numpy>=1.16.5 (from yfinance)\n",
            "  Downloading numpy-2.2.6-cp312-cp312-manylinux_2_17_x86_64.manylinux2014_x86_64.whl.metadata (62 kB)\n",
            "\u001b[2K     \u001b[90m━━━━━━━━━━━━━━━━━━━━━━━━━━━━━━━━━━━━━━━━\u001b[0m \u001b[32m62.0/62.0 kB\u001b[0m \u001b[31m4.2 MB/s\u001b[0m eta \u001b[36m0:00:00\u001b[0m\n",
            "\u001b[?25hRequirement already satisfied: soupsieve>1.2 in /usr/local/lib/python3.12/dist-packages (from beautifulsoup4>=4.11.1->yfinance) (2.8)\n",
            "Requirement already satisfied: typing-extensions>=4.0.0 in /usr/local/lib/python3.12/dist-packages (from beautifulsoup4>=4.11.1->yfinance) (4.15.0)\n",
            "Requirement already satisfied: cffi>=1.12.0 in /usr/local/lib/python3.12/dist-packages (from curl_cffi>=0.7->yfinance) (1.17.1)\n",
            "Requirement already satisfied: certifi>=2024.2.2 in /usr/local/lib/python3.12/dist-packages (from curl_cffi>=0.7->yfinance) (2025.8.3)\n",
            "Requirement already satisfied: anyio<5,>=3.5.0 in /usr/local/lib/python3.12/dist-packages (from groq<1,>=0.30.0->langchain_groq) (4.10.0)\n",
            "Requirement already satisfied: distro<2,>=1.7.0 in /usr/local/lib/python3.12/dist-packages (from groq<1,>=0.30.0->langchain_groq) (1.9.0)\n",
            "Requirement already satisfied: httpx<1,>=0.23.0 in /usr/local/lib/python3.12/dist-packages (from groq<1,>=0.30.0->langchain_groq) (0.28.1)\n",
            "Requirement already satisfied: sniffio in /usr/local/lib/python3.12/dist-packages (from groq<1,>=0.30.0->langchain_groq) (1.3.1)\n",
            "Requirement already satisfied: tenacity!=8.4.0,<10.0.0,>=8.1.0 in /usr/local/lib/python3.12/dist-packages (from langchain-core<1.0.0,>=0.3.72->langchain) (8.5.0)\n",
            "Requirement already satisfied: jsonpatch<2.0,>=1.33 in /usr/local/lib/python3.12/dist-packages (from langchain-core<1.0.0,>=0.3.72->langchain) (1.33)\n",
            "Requirement already satisfied: packaging>=23.2 in /usr/local/lib/python3.12/dist-packages (from langchain-core<1.0.0,>=0.3.72->langchain) (25.0)\n",
            "Requirement already satisfied: orjson>=3.9.14 in /usr/local/lib/python3.12/dist-packages (from langsmith>=0.1.17->langchain) (3.11.3)\n",
            "Requirement already satisfied: requests-toolbelt>=1.0.0 in /usr/local/lib/python3.12/dist-packages (from langsmith>=0.1.17->langchain) (1.0.0)\n",
            "Requirement already satisfied: zstandard>=0.23.0 in /usr/local/lib/python3.12/dist-packages (from langsmith>=0.1.17->langchain) (0.24.0)\n",
            "Requirement already satisfied: annotated-types>=0.6.0 in /usr/local/lib/python3.12/dist-packages (from pydantic<3.0.0,>=2.7.4->langchain) (0.7.0)\n",
            "Requirement already satisfied: pydantic-core==2.33.2 in /usr/local/lib/python3.12/dist-packages (from pydantic<3.0.0,>=2.7.4->langchain) (2.33.2)\n",
            "Requirement already satisfied: typing-inspection>=0.4.0 in /usr/local/lib/python3.12/dist-packages (from pydantic<3.0.0,>=2.7.4->langchain) (0.4.1)\n",
            "Requirement already satisfied: six>=1.5 in /usr/local/lib/python3.12/dist-packages (from python-dateutil>=2.8.2->pandas) (1.17.0)\n",
            "Requirement already satisfied: charset_normalizer<4,>=2 in /usr/local/lib/python3.12/dist-packages (from requests<3,>=2->langchain) (3.4.3)\n",
            "Requirement already satisfied: idna<4,>=2.5 in /usr/local/lib/python3.12/dist-packages (from requests<3,>=2->langchain) (3.10)\n",
            "Requirement already satisfied: urllib3<3,>=1.21.1 in /usr/local/lib/python3.12/dist-packages (from requests<3,>=2->langchain) (2.5.0)\n",
            "Requirement already satisfied: greenlet>=1 in /usr/local/lib/python3.12/dist-packages (from SQLAlchemy<3,>=1.4->langchain) (3.2.4)\n",
            "Requirement already satisfied: pycparser in /usr/local/lib/python3.12/dist-packages (from cffi>=1.12.0->curl_cffi>=0.7->yfinance) (2.22)\n",
            "Requirement already satisfied: httpcore==1.* in /usr/local/lib/python3.12/dist-packages (from httpx<1,>=0.23.0->groq<1,>=0.30.0->langchain_groq) (1.0.9)\n",
            "Requirement already satisfied: h11>=0.16 in /usr/local/lib/python3.12/dist-packages (from httpcore==1.*->httpx<1,>=0.23.0->groq<1,>=0.30.0->langchain_groq) (0.16.0)\n",
            "Requirement already satisfied: jsonpointer>=1.9 in /usr/local/lib/python3.12/dist-packages (from jsonpatch<2.0,>=1.33->langchain-core<1.0.0,>=0.3.72->langchain) (3.0.0)\n",
            "Downloading langchain_groq-0.3.8-py3-none-any.whl (16 kB)\n",
            "Downloading pandas_ta-0.4.67b0-py3-none-any.whl (240 kB)\n",
            "\u001b[2K   \u001b[90m━━━━━━━━━━━━━━━━━━━━━━━━━━━━━━━━━━━━━━━━\u001b[0m \u001b[32m240.6/240.6 kB\u001b[0m \u001b[31m12.5 MB/s\u001b[0m eta \u001b[36m0:00:00\u001b[0m\n",
            "\u001b[?25hDownloading numba-0.61.2-cp312-cp312-manylinux2014_x86_64.manylinux_2_17_x86_64.whl (3.9 MB)\n",
            "\u001b[2K   \u001b[90m━━━━━━━━━━━━━━━━━━━━━━━━━━━━━━━━━━━━━━━━\u001b[0m \u001b[32m3.9/3.9 MB\u001b[0m \u001b[31m71.2 MB/s\u001b[0m eta \u001b[36m0:00:00\u001b[0m\n",
            "\u001b[?25hDownloading pandas-2.3.2-cp312-cp312-manylinux_2_17_x86_64.manylinux2014_x86_64.whl (12.0 MB)\n",
            "\u001b[2K   \u001b[90m━━━━━━━━━━━━━━━━━━━━━━━━━━━━━━━━━━━━━━━━\u001b[0m \u001b[32m12.0/12.0 MB\u001b[0m \u001b[31m130.4 MB/s\u001b[0m eta \u001b[36m0:00:00\u001b[0m\n",
            "\u001b[?25hDownloading groq-0.31.1-py3-none-any.whl (134 kB)\n",
            "\u001b[2K   \u001b[90m━━━━━━━━━━━━━━━━━━━━━━━━━━━━━━━━━━━━━━━━\u001b[0m \u001b[32m134.9/134.9 kB\u001b[0m \u001b[31m10.4 MB/s\u001b[0m eta \u001b[36m0:00:00\u001b[0m\n",
            "\u001b[?25hDownloading numpy-2.2.6-cp312-cp312-manylinux_2_17_x86_64.manylinux2014_x86_64.whl (16.5 MB)\n",
            "\u001b[2K   \u001b[90m━━━━━━━━━━━━━━━━━━━━━━━━━━━━━━━━━━━━━━━━\u001b[0m \u001b[32m16.5/16.5 MB\u001b[0m \u001b[31m124.1 MB/s\u001b[0m eta \u001b[36m0:00:00\u001b[0m\n",
            "\u001b[?25hDownloading llvmlite-0.44.0-cp312-cp312-manylinux_2_17_x86_64.manylinux2014_x86_64.whl (42.4 MB)\n",
            "\u001b[2K   \u001b[90m━━━━━━━━━━━━━━━━━━━━━━━━━━━━━━━━━━━━━━━━\u001b[0m \u001b[32m42.4/42.4 MB\u001b[0m \u001b[31m22.2 MB/s\u001b[0m eta \u001b[36m0:00:00\u001b[0m\n",
            "\u001b[?25hInstalling collected packages: numpy, llvmlite, pandas, numba, pandas-ta, groq, langchain_groq\n",
            "  Attempting uninstall: numpy\n",
            "    Found existing installation: numpy 2.0.2\n",
            "    Uninstalling numpy-2.0.2:\n",
            "      Successfully uninstalled numpy-2.0.2\n",
            "  Attempting uninstall: llvmlite\n",
            "    Found existing installation: llvmlite 0.43.0\n",
            "    Uninstalling llvmlite-0.43.0:\n",
            "      Successfully uninstalled llvmlite-0.43.0\n",
            "  Attempting uninstall: pandas\n",
            "    Found existing installation: pandas 2.2.2\n",
            "    Uninstalling pandas-2.2.2:\n",
            "      Successfully uninstalled pandas-2.2.2\n",
            "  Attempting uninstall: numba\n",
            "    Found existing installation: numba 0.60.0\n",
            "    Uninstalling numba-0.60.0:\n",
            "      Successfully uninstalled numba-0.60.0\n",
            "\u001b[31mERROR: pip's dependency resolver does not currently take into account all the packages that are installed. This behaviour is the source of the following dependency conflicts.\n",
            "google-colab 1.0.0 requires pandas==2.2.2, but you have pandas 2.3.2 which is incompatible.\n",
            "tensorflow 2.19.0 requires numpy<2.2.0,>=1.26.0, but you have numpy 2.2.6 which is incompatible.\n",
            "dask-cudf-cu12 25.6.0 requires pandas<2.2.4dev0,>=2.0, but you have pandas 2.3.2 which is incompatible.\n",
            "cudf-cu12 25.6.0 requires pandas<2.2.4dev0,>=2.0, but you have pandas 2.3.2 which is incompatible.\u001b[0m\u001b[31m\n",
            "\u001b[0mSuccessfully installed groq-0.31.1 langchain_groq-0.3.8 llvmlite-0.44.0 numba-0.61.2 numpy-2.2.6 pandas-2.3.2 pandas-ta-0.4.67b0\n"
          ]
        },
        {
          "output_type": "display_data",
          "data": {
            "application/vnd.colab-display-data+json": {
              "pip_warning": {
                "packages": [
                  "numpy"
                ]
              },
              "id": "003d87a26eda412a862d00054b4a776c"
            }
          },
          "metadata": {}
        }
      ]
    },
    {
      "cell_type": "code",
      "source": [
        "import os\n",
        "import yfinance as yf\n",
        "import pandas as pd\n",
        "from langchain_groq import ChatGroq\n",
        "\n",
        "# --- Configuration ---\n",
        "# Replace \"YOUR_GROQ_API_KEY\" with your actual key.\n",
        "# IMPORTANT: Do not share your notebook publicly with the key hardcoded.\n",
        "GROQ_API_KEY = os.environ['GROQ_API_KEY']\n",
        "\n",
        "# Check if the key has been set\n",
        "if GROQ_API_KEY == \"YOUR_GROQ_API_KEY\" or not GROQ_API_KEY:\n",
        "    print(\" WARNING: Please replace 'YOUR_GROQ_API_KEY' with your actual Groq API key.\")\n",
        "else:\n",
        "    print(\" Groq API Key is set.\")\n",
        "\n",
        "# Initialize the Groq LLM\n",
        "llm = ChatGroq(\n",
        "    temperature=0,\n",
        "    groq_api_key=GROQ_API_KEY,\n",
        "    model_name=\"llama-3.3-70b-versatile\"\n",
        ")\n",
        "\n",
        "print(\" Libraries imported and LLM client initialized successfully.\")"
      ],
      "metadata": {
        "colab": {
          "base_uri": "https://localhost:8080/"
        },
        "id": "8Ncpu27OEjK7",
        "outputId": "00509442-2d0e-4b94-bb74-0b0930a29ad8"
      },
      "execution_count": 13,
      "outputs": [
        {
          "output_type": "stream",
          "name": "stdout",
          "text": [
            " Groq API Key is set.\n",
            " Libraries imported and LLM client initialized successfully.\n"
          ]
        }
      ]
    },
    {
      "cell_type": "code",
      "source": [
        "import yfinance as yf\n",
        "import pandas as pd\n",
        "\n",
        "def get_stock_data(ticker_symbol: str):\n",
        "    \"\"\"\n",
        "    Fetches historical price data and fundamental company info for a given stock ticker.\n",
        "    Returns a tuple: (price_history_df, fundamentals_dict)\n",
        "    \"\"\"\n",
        "    print(f\"Fetching data for ticker: {ticker_symbol}...\")\n",
        "    try:\n",
        "        stock = yf.Ticker(ticker_symbol)\n",
        "\n",
        "        # The .info dictionary can be large and sometimes keys are missing.\n",
        "        # Accessing it can sometimes fail for certain tickers, so we wrap it.\n",
        "        info = stock.info\n",
        "\n",
        "        # Get historical market data for the last year\n",
        "        hist_df = stock.history(period=\"1y\")\n",
        "\n",
        "        if hist_df.empty:\n",
        "            print(f\"Warning: No historical price data found for {ticker_symbol}. The ticker may be invalid.\")\n",
        "            return None, None\n",
        "\n",
        "        # Select key fundamental metrics we care about.\n",
        "        # We use .get() to avoid errors if a key is missing.\n",
        "        fundamentals = {\n",
        "            \"company_name\": info.get(\"longName\"),\n",
        "            \"ticker\": info.get(\"symbol\"),\n",
        "            \"sector\": info.get(\"sector\"),\n",
        "            \"industry\": info.get(\"industry\"),\n",
        "            \"market_cap\": info.get(\"marketCap\"),\n",
        "            \"pe_ratio\": info.get(\"trailingPE\"),\n",
        "            \"forward_pe\": info.get(\"forwardPE\"),\n",
        "            \"eps\": info.get(\"trailingEps\"),\n",
        "            \"price_to_book\": info.get(\"priceToBook\"),\n",
        "            \"debt_to_equity\": info.get(\"debtToEquity\"),\n",
        "            \"return_on_equity\": info.get(\"returnOnEquity\"),\n",
        "            \"dividend_yield\": info.get(\"dividendYield\"),\n",
        "            \"52_week_high\": info.get(\"fiftyTwoWeekHigh\"),\n",
        "            \"52_week_low\": info.get(\"fiftyTwoWeekLow\"),\n",
        "            \"average_volume\": info.get(\"averageVolume\"),\n",
        "        }\n",
        "\n",
        "        print(f\"Successfully fetched data for {fundamentals.get('company_name', ticker_symbol)}.\")\n",
        "        return hist_df, fundamentals\n",
        "\n",
        "    except Exception as e:\n",
        "        print(f\"An error occurred while fetching data for {ticker_symbol}: {e}\")\n",
        "        return None, None\n",
        "\n",
        "# --- Let's test the function for Apple Inc. ---\n",
        "ticker = \"AAPL\"\n",
        "price_history, fundamental_data = get_stock_data(ticker)\n",
        "\n",
        "# --- Verify the output ---\n",
        "if price_history is not None and fundamental_data is not None:\n",
        "    print(\"\\n--- Fundamental Data Sample ---\")\n",
        "    # Print a few key-value pairs from the fundamentals dictionary\n",
        "    for key, value in list(fundamental_data.items())[:5]:\n",
        "        print(f\"{key.replace('_', ' ').title()}: {value}\")\n",
        "\n",
        "    print(\"\\n--- Recent Price History Sample ---\")\n",
        "    # Print the last 5 rows of the price history dataframe\n",
        "    print(price_history.tail())\n",
        "else:\n",
        "    print(\"\\nData fetching failed. Please check the ticker symbol or your network connection.\")"
      ],
      "metadata": {
        "colab": {
          "base_uri": "https://localhost:8080/"
        },
        "id": "IDRKpm5WGl8U",
        "outputId": "070463f1-ee7c-470e-e93a-de60856c262d"
      },
      "execution_count": 10,
      "outputs": [
        {
          "output_type": "stream",
          "name": "stdout",
          "text": [
            "Fetching data for ticker: AAPL...\n",
            "Successfully fetched data for Apple Inc..\n",
            "\n",
            "--- Fundamental Data Sample ---\n",
            "Company Name: Apple Inc.\n",
            "Ticker: AAPL\n",
            "Sector: Technology\n",
            "Industry: Consumer Electronics\n",
            "Market Cap: 3473692426240\n",
            "\n",
            "--- Recent Price History Sample ---\n",
            "                                 Open        High         Low       Close  \\\n",
            "Date                                                                        \n",
            "2025-09-08 00:00:00-04:00  239.300003  240.149994  236.339996  237.880005   \n",
            "2025-09-09 00:00:00-04:00  237.000000  238.779999  233.360001  234.350006   \n",
            "2025-09-10 00:00:00-04:00  232.190002  232.419998  225.949997  226.789993   \n",
            "2025-09-11 00:00:00-04:00  226.880005  230.449997  226.649994  230.029999   \n",
            "2025-09-12 00:00:00-04:00  229.220001  234.509995  229.020004  234.070007   \n",
            "\n",
            "                             Volume  Dividends  Stock Splits  \n",
            "Date                                                          \n",
            "2025-09-08 00:00:00-04:00  48999500        0.0           0.0  \n",
            "2025-09-09 00:00:00-04:00  66313900        0.0           0.0  \n",
            "2025-09-10 00:00:00-04:00  83440800        0.0           0.0  \n",
            "2025-09-11 00:00:00-04:00  50208600        0.0           0.0  \n",
            "2025-09-12 00:00:00-04:00  55776500        0.0           0.0  \n"
          ]
        }
      ]
    },
    {
      "cell_type": "code",
      "source": [
        "import pandas_ta as ta\n",
        "\n",
        "def perform_technical_analysis(df: pd.DataFrame):\n",
        "    \"\"\"\n",
        "    Calculates key technical indicators and adds them to the price history DataFrame.\n",
        "    \"\"\"\n",
        "    print(\"Performing technical analysis...\")\n",
        "    # Make a copy to avoid modifying the original DataFrame unexpectedly\n",
        "    df_ta = df.copy()\n",
        "\n",
        "    # Calculate 50-day and 200-day Simple Moving Averages\n",
        "    df_ta.ta.sma(length=50, append=True)\n",
        "    df_ta.ta.sma(length=200, append=True)\n",
        "\n",
        "    # Calculate Relative Strength Index (RSI)\n",
        "    df_ta.ta.rsi(length=14, append=True)\n",
        "\n",
        "    # Calculate Moving Average Convergence Divergence (MACD)\n",
        "    # This adds three columns: MACD, MACD Histogram, and MACD Signal\n",
        "    df_ta.ta.macd(fast=12, slow=26, signal=9, append=True)\n",
        "\n",
        "    # Clean up the default column names for better readability\n",
        "    df_ta.rename(columns={\n",
        "        \"SMA_50\": \"50_day_sma\",\n",
        "        \"SMA_200\": \"200_day_sma\",\n",
        "        \"RSI_14\": \"rsi\",\n",
        "        \"MACD_12_26_9\": \"macd\",\n",
        "        \"MACDh_12_26_9\": \"macd_histogram\",\n",
        "        \"MACDs_12_26_9\": \"macd_signal\"\n",
        "    }, inplace=True)\n",
        "\n",
        "    print(\"Technical analysis complete.\")\n",
        "    return df_ta\n",
        "\n",
        "# --- Run the analysis on the data we fetched in Step 2 ---\n",
        "# Ensure you have the 'price_history' variable from the previous step\n",
        "if 'price_history' in locals() and price_history is not None:\n",
        "    price_history_with_ta = perform_technical_analysis(price_history)\n",
        "\n",
        "    # --- Verify the output ---\n",
        "    print(\"\\n--- Price History with new Technical Indicator Columns ---\")\n",
        "    # Display the last 5 rows. You should see new columns on the right.\n",
        "    print(price_history_with_ta.tail())\n",
        "else:\n",
        "    print(\"Could not find 'price_history' data. Please re-run Step 2 successfully first.\")"
      ],
      "metadata": {
        "colab": {
          "base_uri": "https://localhost:8080/"
        },
        "id": "VLvdfq4WGqfe",
        "outputId": "0aa0f53e-d484-4452-f630-9717780dff2e"
      },
      "execution_count": 11,
      "outputs": [
        {
          "output_type": "stream",
          "name": "stdout",
          "text": [
            "Performing technical analysis...\n",
            "Technical analysis complete.\n",
            "\n",
            "--- Price History with new Technical Indicator Columns ---\n",
            "                                 Open        High         Low       Close  \\\n",
            "Date                                                                        \n",
            "2025-09-08 00:00:00-04:00  239.300003  240.149994  236.339996  237.880005   \n",
            "2025-09-09 00:00:00-04:00  237.000000  238.779999  233.360001  234.350006   \n",
            "2025-09-10 00:00:00-04:00  232.190002  232.419998  225.949997  226.789993   \n",
            "2025-09-11 00:00:00-04:00  226.880005  230.449997  226.649994  230.029999   \n",
            "2025-09-12 00:00:00-04:00  229.220001  234.509995  229.020004  234.070007   \n",
            "\n",
            "                             Volume  Dividends  Stock Splits  50_day_sma  \\\n",
            "Date                                                                       \n",
            "2025-09-08 00:00:00-04:00  48999500        0.0           0.0  219.007781   \n",
            "2025-09-09 00:00:00-04:00  66313900        0.0           0.0  219.677740   \n",
            "2025-09-10 00:00:00-04:00  83440800        0.0           0.0  220.114792   \n",
            "2025-09-11 00:00:00-04:00  50208600        0.0           0.0  220.563703   \n",
            "2025-09-12 00:00:00-04:00  55776500        0.0           0.0  221.001120   \n",
            "\n",
            "                           200_day_sma        rsi      macd  macd_histogram  \\\n",
            "Date                                                                          \n",
            "2025-09-08 00:00:00-04:00   220.988042  67.000872  5.610306        0.384617   \n",
            "2025-09-09 00:00:00-04:00   221.023725  59.899806  5.245474        0.015827   \n",
            "2025-09-10 00:00:00-04:00   221.020313  48.133869  4.296781       -0.746293   \n",
            "2025-09-11 00:00:00-04:00   221.029513  52.445127  3.762998       -1.024060   \n",
            "2025-09-12 00:00:00-04:00   221.061305  57.220202  3.624190       -0.930295   \n",
            "\n",
            "                           macd_signal  \n",
            "Date                                    \n",
            "2025-09-08 00:00:00-04:00     5.225690  \n",
            "2025-09-09 00:00:00-04:00     5.229646  \n",
            "2025-09-10 00:00:00-04:00     5.043073  \n",
            "2025-09-11 00:00:00-04:00     4.787058  \n",
            "2025-09-12 00:00:00-04:00     4.554485  \n"
          ]
        }
      ]
    },
    {
      "cell_type": "code",
      "source": [
        "from langchain_core.prompts import ChatPromptTemplate\n",
        "\n",
        "def get_llm_summary(ticker_symbol: str, fundamentals: dict, latest_ta_df: pd.DataFrame):\n",
        "    \"\"\"\n",
        "    Uses the LLM to generate a financial summary based on provided data.\n",
        "    \"\"\"\n",
        "    print(\"Generating financial summary with Groq LLM...\")\n",
        "\n",
        "    # Create a structured prompt template\n",
        "    prompt = ChatPromptTemplate.from_messages(\n",
        "        [\n",
        "            (\n",
        "                \"system\",\n",
        "                \"You are an expert financial analyst. Your role is to synthesize raw financial data into a clear, concise, and insightful summary for a retail investor. Do not give financial advice or make future predictions. Focus on summarizing the provided data objectively.\",\n",
        "            ),\n",
        "            (\n",
        "                \"human\",\n",
        "                \"\"\"\n",
        "                Please analyze the following financial data for the stock with ticker symbol: {ticker}.\n",
        "\n",
        "                **Fundamental Data:**\n",
        "                - Company Name: {company_name}\n",
        "                - Sector: {sector}\n",
        "                - Market Cap: {market_cap}\n",
        "                - P/E Ratio: {pe_ratio}\n",
        "                - Forward P/E Ratio: {forward_pe}\n",
        "                - EPS (Earnings Per Share): {eps}\n",
        "                - Debt-to-Equity Ratio: {debt_to_equity}\n",
        "                - Return on Equity: {return_on_equity}\n",
        "                - Dividend Yield: {dividend_yield}\n",
        "\n",
        "                **Latest Technical Indicators:**\n",
        "                - Current Price: {current_price}\n",
        "                - 50-Day Moving Average: {fifty_day_sma}\n",
        "                - 200-Day Moving Average: {two_hundred_day_sma}\n",
        "                - RSI (Relative Strength Index): {rsi}\n",
        "\n",
        "                **Your Task:**\n",
        "                Provide a summary of the company's financial health and market position based *only* on the data above. Structure your response into two distinct paragraphs:\n",
        "                1.  **Fundamental Analysis:** Briefly describe the company's valuation and financial stability using the fundamental metrics.\n",
        "                2.  **Technical Analysis:** Describe the stock's recent price trend and momentum based on the technical indicators. For RSI, a value over 70 is often considered overbought, and under 30 is oversold.\n",
        "                \"\"\"\n",
        "            ),\n",
        "        ]\n",
        "    )\n",
        "\n",
        "    # Combine the prompt and the LLM into a runnable chain\n",
        "    chain = prompt | llm\n",
        "\n",
        "    # Get the very last row of technical analysis data\n",
        "    latest_indicators = latest_ta_df.iloc[-1]\n",
        "\n",
        "    # Invoke the chain with the necessary data.\n",
        "    # We use .get() and provide a default value like 'N/A' to prevent errors\n",
        "    # if a piece of data is missing from the source.\n",
        "    response = chain.invoke({\n",
        "        \"ticker\": ticker_symbol,\n",
        "        \"company_name\": fundamentals.get('company_name', 'N/A'),\n",
        "        \"sector\": fundamentals.get('sector', 'N/A'),\n",
        "        \"market_cap\": f\"${fundamentals.get('market_cap', 0):,}\",\n",
        "        \"pe_ratio\": f\"{fundamentals.get('pe_ratio', 0):.2f}\",\n",
        "        \"forward_pe\": f\"{fundamentals.get('forward_pe', 0):.2f}\",\n",
        "        \"eps\": f\"{fundamentals.get('eps', 0):.2f}\",\n",
        "        \"debt_to_equity\": f\"{fundamentals.get('debt_to_equity', 0):.2f}\",\n",
        "        \"return_on_equity\": f\"{fundamentals.get('return_on_equity', 0):.2%}\",\n",
        "        \"dividend_yield\": f\"{fundamentals.get('dividend_yield', 0):.2%}\",\n",
        "        \"current_price\": f\"${latest_indicators.get('Close', 0):.2f}\",\n",
        "        \"fifty_day_sma\": f\"${latest_indicators.get('50_day_sma', 0):.2f}\",\n",
        "        \"two_hundred_day_sma\": f\"${latest_indicators.get('200_day_sma', 0):.2f}\",\n",
        "        \"rsi\": f\"{latest_indicators.get('rsi', 0):.2f}\",\n",
        "    })\n",
        "\n",
        "    print(\"LLM summary generated successfully.\")\n",
        "    return response.content\n",
        "\n",
        "# --- Generate the summary using variables from previous steps ---\n",
        "if 'fundamental_data' in locals() and 'price_history_with_ta' in locals():\n",
        "    summary = get_llm_summary(ticker, fundamental_data, price_history_with_ta)\n",
        "\n",
        "    print(f\"\\n--- LLM-Powered Financial Summary for {ticker} ---\")\n",
        "    print(summary)\n",
        "else:\n",
        "    print(\"Could not find necessary data. Please re-run Steps 2 and 3 successfully.\")"
      ],
      "metadata": {
        "colab": {
          "base_uri": "https://localhost:8080/"
        },
        "id": "4thmwAHXHC_2",
        "outputId": "d5660d6d-c4eb-4882-980f-7a0338612cbf"
      },
      "execution_count": 14,
      "outputs": [
        {
          "output_type": "stream",
          "name": "stdout",
          "text": [
            "Generating financial summary with Groq LLM...\n",
            "LLM summary generated successfully.\n",
            "\n",
            "--- LLM-Powered Financial Summary for AAPL ---\n",
            "**Fundamental Analysis:**\n",
            "Apple Inc., with a market capitalization of over $3.4 trillion, is a large-cap company in the technology sector. The company's valuation can be assessed through its P/E ratio of 35.47, which is higher than its forward P/E ratio of 28.17, indicating that investors may have high expectations for the company's future growth. The EPS of $6.60 suggests a stable earnings performance. However, the debt-to-equity ratio of 154.49 is notably high, which could indicate a significant reliance on debt financing. On the other hand, the return on equity of 149.81% is exceptionally high, suggesting that the company is highly efficient in generating profits from its shareholders' equity. The dividend yield of 44.00% appears unusually high and may be a result of an error in the data, as typical dividend yields for established companies like Apple are usually much lower.\n",
            "\n",
            "**Technical Analysis:**\n",
            "The current price of Apple's stock is $234.07, which is above both its 50-day and 200-day moving averages of $221.00 and $221.06, respectively. This suggests that the stock has been trending upward recently. The RSI of 57.22 indicates that the stock is not overbought or oversold, falling within a neutral range. This neutral RSI reading, combined with the stock's position above its moving averages, may indicate a positive momentum in the stock's price trend. Overall, the technical indicators suggest that Apple's stock has been performing well in the recent past, with no clear signs of exhaustion or reversal in the trend.\n"
          ]
        }
      ]
    },
    {
      "cell_type": "code",
      "source": [
        "from langchain_core.pydantic_v1 import BaseModel, Field\n",
        "from langchain_core.prompts import ChatPromptTemplate\n",
        "\n",
        "# 1. Define the desired structured output for our recommendation\n",
        "class StockRecommendation(BaseModel):\n",
        "    \"\"\"A structured recommendation for a stock.\"\"\"\n",
        "    recommendation: str = Field(description=\"The final recommendation, which must be one of: 'Buy', 'Hold', or 'Sell'.\")\n",
        "    confidence_score: float = Field(description=\"A confidence score from 0.0 to 1.0 for the recommendation, where 1.0 is highest confidence.\")\n",
        "    explanation: str = Field(description=\"A detailed, multi-paragraph explanation supporting the recommendation, synthesizing all provided data.\")\n",
        "\n",
        "# 2. Create the main orchestrator function\n",
        "def generate_structured_recommendation(ticker_symbol: str):\n",
        "    \"\"\"\n",
        "    Orchestrates the entire workflow:\n",
        "    1. Fetches data.\n",
        "    2. Performs technical analysis.\n",
        "    3. Generates a structured recommendation using an LLM.\n",
        "    \"\"\"\n",
        "    print(f\"--- Starting Full Analysis for {ticker_symbol} ---\")\n",
        "\n",
        "    # Step 1: Fetch data (using our function from Step 2)\n",
        "    prices, fundamentals = get_stock_data(ticker_symbol)\n",
        "    if prices is None:\n",
        "        print(f\"Analysis stopped: Could not fetch data for {ticker_symbol}.\")\n",
        "        return None\n",
        "\n",
        "    # Step 2: Perform technical analysis (using our function from Step 3)\n",
        "    prices_with_ta = perform_technical_analysis(prices)\n",
        "    latest_indicators = prices_with_ta.iloc[-1]\n",
        "\n",
        "    # Step 3: Generate the structured recommendation with the LLM\n",
        "    print(\"Generating structured recommendation with Groq LLM...\")\n",
        "\n",
        "    # Create a new LLM instance that is specifically configured to produce structured output\n",
        "    structured_llm = llm.with_structured_output(StockRecommendation)\n",
        "\n",
        "    prompt = ChatPromptTemplate.from_messages(\n",
        "        [\n",
        "            (\"system\", \"You are a senior investment analyst. Your task is to provide a clear, data-driven investment recommendation (Buy, Hold, or Sell) with a confidence score. You must base your entire analysis and explanation *only* on the data provided. Do not use any external knowledge.\"),\n",
        "            (\"human\", \"\"\"\n",
        "                Analyze the stock: {ticker}\n",
        "\n",
        "                **Fundamental Data:**\n",
        "                {fundamentals}\n",
        "\n",
        "                **Technical Analysis Data (Latest):**\n",
        "                - Current Price: {current_price}\n",
        "                - 50-Day SMA: {fifty_day_sma}\n",
        "                - 200-Day SMA: {two_hundred_day_sma}\n",
        "                - RSI: {rsi}\n",
        "                - MACD Line: {macd}\n",
        "                - MACD Signal Line: {macd_signal}\n",
        "\n",
        "                **Your Task:**\n",
        "                Based on a holistic analysis of the provided fundamental and technical data, generate a structured recommendation.\n",
        "                - **For Fundamentals:** Consider if the P/E ratio suggests the stock is over or undervalued compared to typical market values. Look at debt, profitability (Return on Equity), and dividend yield for stability.\n",
        "                - **For Technicals:** Is the current price above or below key moving averages (a key trend indicator)? Is the RSI indicating overbought (>70) or oversold (<30) conditions? Is the MACD line above its signal line (a bullish sign) or below (a bearish sign)?\n",
        "                - **Synthesize:** Combine these insights into a final recommendation, a confidence score, and a detailed explanation that justifies your reasoning.\n",
        "            \"\"\")\n",
        "        ]\n",
        "    )\n",
        "\n",
        "    chain = prompt | structured_llm\n",
        "\n",
        "    recommendation_object = chain.invoke({\n",
        "        \"ticker\": ticker_symbol,\n",
        "        \"fundamentals\": str(fundamentals), # Pass the whole dict as a string for the LLM to read\n",
        "        \"current_price\": f\"${latest_indicators.get('Close', 0):.2f}\",\n",
        "        \"fifty_day_sma\": f\"${latest_indicators.get('50_day_sma', 0):.2f}\",\n",
        "        \"two_hundred_day_sma\": f\"${latest_indicators.get('200_day_sma', 0):.2f}\",\n",
        "        \"rsi\": f\"{latest_indicators.get('rsi', 0):.2f}\",\n",
        "        \"macd\": f\"{latest_indicators.get('macd', 0):.2f}\",\n",
        "        \"macd_signal\": f\"{latest_indicators.get('macd_signal', 0):.2f}\"\n",
        "    })\n",
        "\n",
        "    print(\"--- Analysis Complete ---\")\n",
        "    return recommendation_object\n",
        "\n",
        "# --- Run the full workflow for a different stock, e.g., NVIDIA ---\n",
        "nvda_recommendation = generate_structured_recommendation(\"NVDA\")\n",
        "\n",
        "# --- Verify the output ---\n",
        "if nvda_recommendation:\n",
        "    print(\"\\n--- Final Structured Recommendation for NVDA ---\")\n",
        "    print(f\"Recommendation: {nvda_recommendation.recommendation}\")\n",
        "    print(f\"Confidence Score: {nvda_recommendation.confidence_score:.2f}\")\n",
        "    print(\"\\n--- Explanation ---\")\n",
        "    print(nvda_recommendation.explanation)"
      ],
      "metadata": {
        "colab": {
          "base_uri": "https://localhost:8080/"
        },
        "id": "2zlvdk9zHc5e",
        "outputId": "08ae4c4a-d74d-4788-9dfe-3453049b588c"
      },
      "execution_count": 15,
      "outputs": [
        {
          "output_type": "stream",
          "name": "stderr",
          "text": [
            "/usr/local/lib/python3.12/dist-packages/IPython/core/interactiveshell.py:3553: LangChainDeprecationWarning: As of langchain-core 0.3.0, LangChain uses pydantic v2 internally. The langchain_core.pydantic_v1 module was a compatibility shim for pydantic v1, and should no longer be used. Please update the code to import from Pydantic directly.\n",
            "\n",
            "For example, replace imports like: `from langchain_core.pydantic_v1 import BaseModel`\n",
            "with: `from pydantic import BaseModel`\n",
            "or the v1 compatibility namespace if you are working in a code base that has not been fully upgraded to pydantic 2 yet. \tfrom pydantic.v1 import BaseModel\n",
            "\n",
            "  exec(code_obj, self.user_global_ns, self.user_ns)\n"
          ]
        },
        {
          "output_type": "stream",
          "name": "stdout",
          "text": [
            "--- Starting Full Analysis for NVDA ---\n",
            "Fetching data for ticker: NVDA...\n",
            "Successfully fetched data for NVIDIA Corporation.\n",
            "Performing technical analysis...\n",
            "Technical analysis complete.\n",
            "Generating structured recommendation with Groq LLM...\n",
            "--- Analysis Complete ---\n",
            "\n",
            "--- Final Structured Recommendation for NVDA ---\n",
            "Recommendation: Buy\n",
            "Confidence Score: 0.80\n",
            "\n",
            "--- Explanation ---\n",
            "The stock NVDA has a high P/E ratio of 50.805717, which may indicate overvaluation. However, the forward P/E ratio is slightly lower at 43.1602, suggesting some potential for growth. The debt-to-equity ratio is relatively low at 10.584, and the return on equity is 1.09417, indicating stable profitability. The dividend yield is low at 0.02, which may not be attractive to income investors. On the technical side, the current price of $177.82 is above the 50-Day SMA of $174.11 and the 200-Day SMA of $139.95, indicating a positive trend. The RSI of 55.53 is within the neutral range, and the MACD line is slightly above the signal line, which is a bullish sign. Considering these factors, the recommendation is to 'Buy' NVDA, as the technical indicators suggest a positive trend, and the fundamental data, while showing some signs of overvaluation, indicates stable profitability and low debt. The confidence score is 0.8, reflecting the potential for growth and the positive technical indicators, but also taking into account the high P/E ratio and low dividend yield.\n"
          ]
        }
      ]
    },
    {
      "cell_type": "code",
      "source": [],
      "metadata": {
        "id": "9WegerqPLfUF"
      },
      "execution_count": null,
      "outputs": []
    }
  ]
}